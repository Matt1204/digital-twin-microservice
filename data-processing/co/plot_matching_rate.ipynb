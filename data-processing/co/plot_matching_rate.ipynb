{
 "cells": [
  {
   "cell_type": "code",
   "execution_count": 6,
   "metadata": {},
   "outputs": [],
   "source": [
    "import pandas as pd\n",
    "import matplotlib.pyplot as plt\n",
    "import numpy as np"
   ]
  },
  {
   "cell_type": "code",
   "execution_count": 7,
   "metadata": {},
   "outputs": [],
   "source": [
    "def calculate_hourly_util(group):\n",
    "    matching_rate = group.columns.get_loc(\"matchingRate\")\n",
    "    # Sum of totalUtility for this group\n",
    "    avg_matching_rate = group.iloc[1:, matching_rate].mean()\n",
    "\n",
    "    # Use the first timestamp in the group as representative\n",
    "    timestamp = group.iloc[0][\"hour_only\"]\n",
    "    \n",
    "    return pd.Series({\"timestamp\": timestamp, \"matching_rate\": avg_matching_rate})\n",
    "\n",
    "\n",
    "def aggregate_matching_rate(file_path):\n",
    "    utility_df = pd.read_excel(file_path)\n",
    "    utility_df[\"timestamp\"] = pd.to_datetime(utility_df[\"timestamp\"])\n",
    "    utility_df[\"hour_only\"] = utility_df[\"timestamp\"].dt.strftime(\"%H:00\")\n",
    "    aggregated_df = utility_df.groupby(\"hour_only\").apply(calculate_hourly_util).reset_index(drop=True)\n",
    "    return aggregated_df\n"
   ]
  },
  {
   "cell_type": "code",
   "execution_count": 8,
   "metadata": {},
   "outputs": [],
   "source": [
    "file_path_1 = \"../../centralOperator-microservice/output/0405_13:53:02_matching-rate.xlsx\"\n",
    "file_path_2 = \"../../centralOperator-microservice/output/0405_16-41-36_matching-rate.xlsx\""
   ]
  },
  {
   "cell_type": "code",
   "execution_count": 9,
   "metadata": {},
   "outputs": [
    {
     "name": "stderr",
     "output_type": "stream",
     "text": [
      "/opt/anaconda3/envs/didi_env/lib/python3.10/site-packages/openpyxl/styles/stylesheet.py:237: UserWarning: Workbook contains no default style, apply openpyxl's default\n",
      "  warn(\"Workbook contains no default style, apply openpyxl's default\")\n",
      "/var/folders/xb/x956wlq50sl0s12y4dxzyxsc0000gn/T/ipykernel_9366/3991201166.py:14: UserWarning: Could not infer format, so each element will be parsed individually, falling back to `dateutil`. To ensure parsing is consistent and as-expected, please specify a format.\n",
      "  utility_df[\"timestamp\"] = pd.to_datetime(utility_df[\"timestamp\"])\n",
      "/var/folders/xb/x956wlq50sl0s12y4dxzyxsc0000gn/T/ipykernel_9366/3991201166.py:16: DeprecationWarning: DataFrameGroupBy.apply operated on the grouping columns. This behavior is deprecated, and in a future version of pandas the grouping columns will be excluded from the operation. Either pass `include_groups=False` to exclude the groupings or explicitly select the grouping columns after groupby to silence this warning.\n",
      "  aggregated_df = utility_df.groupby(\"hour_only\").apply(calculate_hourly_util).reset_index(drop=True)\n",
      "/opt/anaconda3/envs/didi_env/lib/python3.10/site-packages/openpyxl/styles/stylesheet.py:237: UserWarning: Workbook contains no default style, apply openpyxl's default\n",
      "  warn(\"Workbook contains no default style, apply openpyxl's default\")\n",
      "/var/folders/xb/x956wlq50sl0s12y4dxzyxsc0000gn/T/ipykernel_9366/3991201166.py:14: UserWarning: Could not infer format, so each element will be parsed individually, falling back to `dateutil`. To ensure parsing is consistent and as-expected, please specify a format.\n",
      "  utility_df[\"timestamp\"] = pd.to_datetime(utility_df[\"timestamp\"])\n",
      "/var/folders/xb/x956wlq50sl0s12y4dxzyxsc0000gn/T/ipykernel_9366/3991201166.py:16: DeprecationWarning: DataFrameGroupBy.apply operated on the grouping columns. This behavior is deprecated, and in a future version of pandas the grouping columns will be excluded from the operation. Either pass `include_groups=False` to exclude the groupings or explicitly select the grouping columns after groupby to silence this warning.\n",
      "  aggregated_df = utility_df.groupby(\"hour_only\").apply(calculate_hourly_util).reset_index(drop=True)\n"
     ]
    }
   ],
   "source": [
    "data_1 = aggregate_matching_rate(file_path_1)\n",
    "data_2 = aggregate_matching_rate(file_path_2)"
   ]
  },
  {
   "cell_type": "code",
   "execution_count": 10,
   "metadata": {},
   "outputs": [
    {
     "data": {
      "application/vnd.microsoft.datawrangler.viewer.v0+json": {
       "columns": [
        {
         "name": "index",
         "rawType": "int64",
         "type": "integer"
        },
        {
         "name": "timestamp",
         "rawType": "object",
         "type": "string"
        },
        {
         "name": "matching_rate",
         "rawType": "float64",
         "type": "float"
        }
       ],
       "conversionMethod": "pd.DataFrame",
       "ref": "65c24111-7487-4fe4-8ba6-31587e481363",
       "rows": [
        [
         "0",
         "09:00",
         "0.15833333333333333"
        ],
        [
         "1",
         "10:00",
         "0.11920122887864822"
        ],
        [
         "2",
         "11:00",
         "0.0967549162671114"
        ],
        [
         "3",
         "12:00",
         "0.06430627987831378"
        ],
        [
         "4",
         "13:00",
         "0.05561996779388084"
        ],
        [
         "5",
         "14:00",
         "0.03664972161704188"
        ],
        [
         "6",
         "15:00",
         "0.04575053538522835"
        ],
        [
         "7",
         "16:00",
         "0.027724201396767772"
        ],
        [
         "8",
         "17:00",
         "0.02266286195495719"
        ],
        [
         "9",
         "18:00",
         "0.01605521517679191"
        ]
       ],
       "shape": {
        "columns": 2,
        "rows": 10
       }
      },
      "text/html": [
       "<div>\n",
       "<style scoped>\n",
       "    .dataframe tbody tr th:only-of-type {\n",
       "        vertical-align: middle;\n",
       "    }\n",
       "\n",
       "    .dataframe tbody tr th {\n",
       "        vertical-align: top;\n",
       "    }\n",
       "\n",
       "    .dataframe thead th {\n",
       "        text-align: right;\n",
       "    }\n",
       "</style>\n",
       "<table border=\"1\" class=\"dataframe\">\n",
       "  <thead>\n",
       "    <tr style=\"text-align: right;\">\n",
       "      <th></th>\n",
       "      <th>timestamp</th>\n",
       "      <th>matching_rate</th>\n",
       "    </tr>\n",
       "  </thead>\n",
       "  <tbody>\n",
       "    <tr>\n",
       "      <th>0</th>\n",
       "      <td>09:00</td>\n",
       "      <td>0.158333</td>\n",
       "    </tr>\n",
       "    <tr>\n",
       "      <th>1</th>\n",
       "      <td>10:00</td>\n",
       "      <td>0.119201</td>\n",
       "    </tr>\n",
       "    <tr>\n",
       "      <th>2</th>\n",
       "      <td>11:00</td>\n",
       "      <td>0.096755</td>\n",
       "    </tr>\n",
       "    <tr>\n",
       "      <th>3</th>\n",
       "      <td>12:00</td>\n",
       "      <td>0.064306</td>\n",
       "    </tr>\n",
       "    <tr>\n",
       "      <th>4</th>\n",
       "      <td>13:00</td>\n",
       "      <td>0.055620</td>\n",
       "    </tr>\n",
       "    <tr>\n",
       "      <th>5</th>\n",
       "      <td>14:00</td>\n",
       "      <td>0.036650</td>\n",
       "    </tr>\n",
       "    <tr>\n",
       "      <th>6</th>\n",
       "      <td>15:00</td>\n",
       "      <td>0.045751</td>\n",
       "    </tr>\n",
       "    <tr>\n",
       "      <th>7</th>\n",
       "      <td>16:00</td>\n",
       "      <td>0.027724</td>\n",
       "    </tr>\n",
       "    <tr>\n",
       "      <th>8</th>\n",
       "      <td>17:00</td>\n",
       "      <td>0.022663</td>\n",
       "    </tr>\n",
       "    <tr>\n",
       "      <th>9</th>\n",
       "      <td>18:00</td>\n",
       "      <td>0.016055</td>\n",
       "    </tr>\n",
       "  </tbody>\n",
       "</table>\n",
       "</div>"
      ],
      "text/plain": [
       "  timestamp  matching_rate\n",
       "0     09:00       0.158333\n",
       "1     10:00       0.119201\n",
       "2     11:00       0.096755\n",
       "3     12:00       0.064306\n",
       "4     13:00       0.055620\n",
       "5     14:00       0.036650\n",
       "6     15:00       0.045751\n",
       "7     16:00       0.027724\n",
       "8     17:00       0.022663\n",
       "9     18:00       0.016055"
      ]
     },
     "execution_count": 10,
     "metadata": {},
     "output_type": "execute_result"
    }
   ],
   "source": [
    "data_1.head(10)"
   ]
  },
  {
   "cell_type": "code",
   "execution_count": 11,
   "metadata": {},
   "outputs": [
    {
     "data": {
      "application/vnd.microsoft.datawrangler.viewer.v0+json": {
       "columns": [
        {
         "name": "index",
         "rawType": "int64",
         "type": "integer"
        },
        {
         "name": "timestamp",
         "rawType": "object",
         "type": "string"
        },
        {
         "name": "matching_rate_1",
         "rawType": "float64",
         "type": "float"
        },
        {
         "name": "matching_rate_2",
         "rawType": "float64",
         "type": "float"
        }
       ],
       "conversionMethod": "pd.DataFrame",
       "ref": "89f3c7bc-f6f1-4ce5-87d4-6bf72ba4a7fd",
       "rows": [
        [
         "0",
         "09:00",
         "0.15833333333333333",
         "0.3683574879227053"
        ],
        [
         "1",
         "10:00",
         "0.11920122887864822",
         "0.3820662768031189"
        ],
        [
         "2",
         "11:00",
         "0.0967549162671114",
         "0.43848039215686274"
        ],
        [
         "3",
         "12:00",
         "0.06430627987831378",
         "0.2918679549114332"
        ],
        [
         "4",
         "13:00",
         "0.05561996779388084",
         "0.3282828282828283"
        ],
        [
         "5",
         "14:00",
         "0.03664972161704188",
         "0.29598506069094305"
        ],
        [
         "6",
         "15:00",
         "0.04575053538522835",
         "0.2523056653491436"
        ],
        [
         "7",
         "16:00",
         "0.027724201396767772",
         "0.24"
        ],
        [
         "8",
         "17:00",
         "0.02266286195495719",
         null
        ],
        [
         "9",
         "18:00",
         "0.01605521517679191",
         null
        ]
       ],
       "shape": {
        "columns": 3,
        "rows": 10
       }
      },
      "text/html": [
       "<div>\n",
       "<style scoped>\n",
       "    .dataframe tbody tr th:only-of-type {\n",
       "        vertical-align: middle;\n",
       "    }\n",
       "\n",
       "    .dataframe tbody tr th {\n",
       "        vertical-align: top;\n",
       "    }\n",
       "\n",
       "    .dataframe thead th {\n",
       "        text-align: right;\n",
       "    }\n",
       "</style>\n",
       "<table border=\"1\" class=\"dataframe\">\n",
       "  <thead>\n",
       "    <tr style=\"text-align: right;\">\n",
       "      <th></th>\n",
       "      <th>timestamp</th>\n",
       "      <th>matching_rate_1</th>\n",
       "      <th>matching_rate_2</th>\n",
       "    </tr>\n",
       "  </thead>\n",
       "  <tbody>\n",
       "    <tr>\n",
       "      <th>0</th>\n",
       "      <td>09:00</td>\n",
       "      <td>0.158333</td>\n",
       "      <td>0.368357</td>\n",
       "    </tr>\n",
       "    <tr>\n",
       "      <th>1</th>\n",
       "      <td>10:00</td>\n",
       "      <td>0.119201</td>\n",
       "      <td>0.382066</td>\n",
       "    </tr>\n",
       "    <tr>\n",
       "      <th>2</th>\n",
       "      <td>11:00</td>\n",
       "      <td>0.096755</td>\n",
       "      <td>0.438480</td>\n",
       "    </tr>\n",
       "    <tr>\n",
       "      <th>3</th>\n",
       "      <td>12:00</td>\n",
       "      <td>0.064306</td>\n",
       "      <td>0.291868</td>\n",
       "    </tr>\n",
       "    <tr>\n",
       "      <th>4</th>\n",
       "      <td>13:00</td>\n",
       "      <td>0.055620</td>\n",
       "      <td>0.328283</td>\n",
       "    </tr>\n",
       "    <tr>\n",
       "      <th>5</th>\n",
       "      <td>14:00</td>\n",
       "      <td>0.036650</td>\n",
       "      <td>0.295985</td>\n",
       "    </tr>\n",
       "    <tr>\n",
       "      <th>6</th>\n",
       "      <td>15:00</td>\n",
       "      <td>0.045751</td>\n",
       "      <td>0.252306</td>\n",
       "    </tr>\n",
       "    <tr>\n",
       "      <th>7</th>\n",
       "      <td>16:00</td>\n",
       "      <td>0.027724</td>\n",
       "      <td>0.240000</td>\n",
       "    </tr>\n",
       "    <tr>\n",
       "      <th>8</th>\n",
       "      <td>17:00</td>\n",
       "      <td>0.022663</td>\n",
       "      <td>NaN</td>\n",
       "    </tr>\n",
       "    <tr>\n",
       "      <th>9</th>\n",
       "      <td>18:00</td>\n",
       "      <td>0.016055</td>\n",
       "      <td>NaN</td>\n",
       "    </tr>\n",
       "  </tbody>\n",
       "</table>\n",
       "</div>"
      ],
      "text/plain": [
       "  timestamp  matching_rate_1  matching_rate_2\n",
       "0     09:00         0.158333         0.368357\n",
       "1     10:00         0.119201         0.382066\n",
       "2     11:00         0.096755         0.438480\n",
       "3     12:00         0.064306         0.291868\n",
       "4     13:00         0.055620         0.328283\n",
       "5     14:00         0.036650         0.295985\n",
       "6     15:00         0.045751         0.252306\n",
       "7     16:00         0.027724         0.240000\n",
       "8     17:00         0.022663              NaN\n",
       "9     18:00         0.016055              NaN"
      ]
     },
     "execution_count": 11,
     "metadata": {},
     "output_type": "execute_result"
    }
   ],
   "source": [
    "merged_df = pd.merge(data_1, data_2, on=\"timestamp\", how=\"outer\", suffixes=(\"_1\", \"_2\")).sort_values(\"timestamp\").reset_index(drop=True)\n",
    "merged_df.head(10)"
   ]
  },
  {
   "cell_type": "code",
   "execution_count": 12,
   "metadata": {},
   "outputs": [
    {
     "data": {
      "image/png": "[encoded data removed]",
      "text/plain": [
       "<Figure size 600x400 with 1 Axes>"
      ]
     },
     "metadata": {},
     "output_type": "display_data"
    }
   ],
   "source": [
    "df_plot = merged_df.loc[0:9]\n",
    "\n",
    "# Create the plot\n",
    "plt.figure(figsize=(6, 4))  # Adjust size as needed for your paper\n",
    "plt.plot(df_plot['timestamp'], df_plot['matching_rate_1'], color='blue', linestyle='-', linewidth=1, marker='o', label='BM-DDPG')\n",
    "plt.plot(df_plot['timestamp'], df_plot['matching_rate_2'], color='orange', linestyle='-', linewidth=1, marker='o', label='algo-2')\n",
    "\n",
    "# Labels and title\n",
    "plt.title(\"Matching Rate Comparison\")\n",
    "plt.xlabel(\"Timestamp\")\n",
    "plt.ylabel(\"Matching Rate\")\n",
    "\n",
    "# Optional: Rotate x-axis labels for better readability\n",
    "plt.xticks(rotation=45)\n",
    "plt.ylim(0, 1)\n",
    "\n",
    "# Optional: Tight layout to prevent label cutoff\n",
    "# Labels and legend\n",
    "plt.xlabel(\"Timestamp\")\n",
    "plt.ylabel(\"Social Welfare Value\")\n",
    "plt.title(\"Social Welfare Comparison\")\n",
    "plt.xticks(rotation=45)\n",
    "plt.legend()\n",
    "plt.tight_layout()\n",
    "\n",
    "plt.savefig(\"hourly_utility_plot.png\", dpi=300, bbox_inches='tight')  # For slides or previews\n",
    "\n",
    "# Show the plot\n",
    "plt.show()"
   ]
  }
 ],
 "metadata": {
  "kernelspec": {
   "display_name": "didi_env",
   "language": "python",
   "name": "python3"
  },
  "language_info": {
   "codemirror_mode": {
    "name": "ipython",
    "version": 3
   },
   "file_extension": ".py",
   "mimetype": "text/x-python",
   "name": "python",
   "nbconvert_exporter": "python",
   "pygments_lexer": "ipython3",
   "version": "3.10.13"
  }
 },
 "nbformat": 4,
 "nbformat_minor": 2
}
