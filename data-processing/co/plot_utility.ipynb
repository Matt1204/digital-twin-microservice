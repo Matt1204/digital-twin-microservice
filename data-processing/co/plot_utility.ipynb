{
 "cells": [
  {
   "cell_type": "code",
   "execution_count": null,
   "metadata": {},
   "outputs": [],
   "source": [
    "import pandas as pd\n",
    "import matplotlib.pyplot as plt\n",
    "import numpy as np"
   ]
  },
  {
   "cell_type": "code",
   "execution_count": null,
   "metadata": {},
   "outputs": [],
   "source": [
    "def calculate_hourly_util(group):\n",
    "    total_util_idx = group.columns.get_loc(\"totalUtility\")\n",
    "    # Sum of totalUtility for this group\n",
    "    total_util = group.iloc[1:, total_util_idx].sum()\n",
    "\n",
    "    # Use the first timestamp in the group as representative\n",
    "    timestamp = group.iloc[0][\"hour_only\"]\n",
    "    \n",
    "    return pd.Series({\"timestamp\": timestamp, \"hourlyUtility\": total_util})\n",
    "\n",
    "\n",
    "def aggregate_multiple_data(file_path):\n",
    "    utility_df = pd.read_excel(file_path)\n",
    "    utility_df[\"timestamp\"] = pd.to_datetime(utility_df[\"timestamp\"])\n",
    "    utility_df[\"hour_only\"] = utility_df[\"timestamp\"].dt.strftime(\"%H:00\")\n",
    "    aggregated_df = utility_df.groupby(\"hour_only\").apply(calculate_hourly_util).reset_index(drop=True)\n",
    "    return aggregated_df\n"
   ]
  },
  {
   "cell_type": "code",
   "execution_count": 61,
   "metadata": {},
   "outputs": [],
   "source": [
    "file_path_1 = \"../../centralOperator-microservice/output/0405_13:53:01_utility.xlsx\"\n",
    "file_path_2 = \"../../centralOperator-microservice/output/0404_12:02:25_utility.xlsx\""
   ]
  },
  {
   "cell_type": "code",
   "execution_count": 62,
   "metadata": {},
   "outputs": [
    {
     "name": "stderr",
     "output_type": "stream",
     "text": [
      "/opt/anaconda3/envs/didi_env/lib/python3.10/site-packages/openpyxl/styles/stylesheet.py:237: UserWarning: Workbook contains no default style, apply openpyxl's default\n",
      "  warn(\"Workbook contains no default style, apply openpyxl's default\")\n",
      "/var/folders/xb/x956wlq50sl0s12y4dxzyxsc0000gn/T/ipykernel_56158/3767330190.py:14: UserWarning: Could not infer format, so each element will be parsed individually, falling back to `dateutil`. To ensure parsing is consistent and as-expected, please specify a format.\n",
      "  utility_df[\"timestamp\"] = pd.to_datetime(utility_df[\"timestamp\"])\n",
      "/var/folders/xb/x956wlq50sl0s12y4dxzyxsc0000gn/T/ipykernel_56158/3767330190.py:16: DeprecationWarning: DataFrameGroupBy.apply operated on the grouping columns. This behavior is deprecated, and in a future version of pandas the grouping columns will be excluded from the operation. Either pass `include_groups=False` to exclude the groupings or explicitly select the grouping columns after groupby to silence this warning.\n",
      "  aggregated_df = utility_df.groupby(\"hour_only\").apply(calculate_hourly_util).reset_index(drop=True)\n",
      "/opt/anaconda3/envs/didi_env/lib/python3.10/site-packages/openpyxl/styles/stylesheet.py:237: UserWarning: Workbook contains no default style, apply openpyxl's default\n",
      "  warn(\"Workbook contains no default style, apply openpyxl's default\")\n",
      "/var/folders/xb/x956wlq50sl0s12y4dxzyxsc0000gn/T/ipykernel_56158/3767330190.py:14: UserWarning: Could not infer format, so each element will be parsed individually, falling back to `dateutil`. To ensure parsing is consistent and as-expected, please specify a format.\n",
      "  utility_df[\"timestamp\"] = pd.to_datetime(utility_df[\"timestamp\"])\n",
      "/var/folders/xb/x956wlq50sl0s12y4dxzyxsc0000gn/T/ipykernel_56158/3767330190.py:16: DeprecationWarning: DataFrameGroupBy.apply operated on the grouping columns. This behavior is deprecated, and in a future version of pandas the grouping columns will be excluded from the operation. Either pass `include_groups=False` to exclude the groupings or explicitly select the grouping columns after groupby to silence this warning.\n",
      "  aggregated_df = utility_df.groupby(\"hour_only\").apply(calculate_hourly_util).reset_index(drop=True)\n"
     ]
    }
   ],
   "source": [
    "data_1 = aggregate_multiple_data(file_path_1)\n",
    "data_2 = aggregate_multiple_data(file_path_2)"
   ]
  },
  {
   "cell_type": "code",
   "execution_count": 63,
   "metadata": {},
   "outputs": [
    {
     "data": {
      "application/vnd.microsoft.datawrangler.viewer.v0+json": {
       "columns": [
        {
         "name": "index",
         "rawType": "int64",
         "type": "integer"
        },
        {
         "name": "timestamp",
         "rawType": "object",
         "type": "string"
        },
        {
         "name": "hourlyUtility_1",
         "rawType": "float64",
         "type": "float"
        },
        {
         "name": "hourlyUtility_2",
         "rawType": "float64",
         "type": "float"
        }
       ],
       "conversionMethod": "pd.DataFrame",
       "ref": "079856e9-3fb7-4500-ac95-089f5b2824ae",
       "rows": [
        [
         "0",
         "09:00",
         "118.75108096872394",
         "321.4786341051553"
        ],
        [
         "1",
         "10:00",
         "187.39950660237105",
         "321.1077208140013"
        ],
        [
         "2",
         "11:00",
         "184.6701991061297",
         "339.65210354406224"
        ],
        [
         "3",
         "12:00",
         "172.3505109918186",
         null
        ],
        [
         "4",
         "13:00",
         "200.13664924016118",
         null
        ],
        [
         "5",
         "14:00",
         "161.54089720067077",
         null
        ],
        [
         "6",
         "15:00",
         "228.2697651345831",
         null
        ],
        [
         "7",
         "16:00",
         "118.49002136212931",
         null
        ],
        [
         "8",
         "17:00",
         "166.94008590029915",
         null
        ],
        [
         "9",
         "18:00",
         "168.75505054818836",
         null
        ]
       ],
       "shape": {
        "columns": 3,
        "rows": 10
       }
      },
      "text/html": [
       "<div>\n",
       "<style scoped>\n",
       "    .dataframe tbody tr th:only-of-type {\n",
       "        vertical-align: middle;\n",
       "    }\n",
       "\n",
       "    .dataframe tbody tr th {\n",
       "        vertical-align: top;\n",
       "    }\n",
       "\n",
       "    .dataframe thead th {\n",
       "        text-align: right;\n",
       "    }\n",
       "</style>\n",
       "<table border=\"1\" class=\"dataframe\">\n",
       "  <thead>\n",
       "    <tr style=\"text-align: right;\">\n",
       "      <th></th>\n",
       "      <th>timestamp</th>\n",
       "      <th>hourlyUtility_1</th>\n",
       "      <th>hourlyUtility_2</th>\n",
       "    </tr>\n",
       "  </thead>\n",
       "  <tbody>\n",
       "    <tr>\n",
       "      <th>0</th>\n",
       "      <td>09:00</td>\n",
       "      <td>118.751081</td>\n",
       "      <td>321.478634</td>\n",
       "    </tr>\n",
       "    <tr>\n",
       "      <th>1</th>\n",
       "      <td>10:00</td>\n",
       "      <td>187.399507</td>\n",
       "      <td>321.107721</td>\n",
       "    </tr>\n",
       "    <tr>\n",
       "      <th>2</th>\n",
       "      <td>11:00</td>\n",
       "      <td>184.670199</td>\n",
       "      <td>339.652104</td>\n",
       "    </tr>\n",
       "    <tr>\n",
       "      <th>3</th>\n",
       "      <td>12:00</td>\n",
       "      <td>172.350511</td>\n",
       "      <td>NaN</td>\n",
       "    </tr>\n",
       "    <tr>\n",
       "      <th>4</th>\n",
       "      <td>13:00</td>\n",
       "      <td>200.136649</td>\n",
       "      <td>NaN</td>\n",
       "    </tr>\n",
       "    <tr>\n",
       "      <th>5</th>\n",
       "      <td>14:00</td>\n",
       "      <td>161.540897</td>\n",
       "      <td>NaN</td>\n",
       "    </tr>\n",
       "    <tr>\n",
       "      <th>6</th>\n",
       "      <td>15:00</td>\n",
       "      <td>228.269765</td>\n",
       "      <td>NaN</td>\n",
       "    </tr>\n",
       "    <tr>\n",
       "      <th>7</th>\n",
       "      <td>16:00</td>\n",
       "      <td>118.490021</td>\n",
       "      <td>NaN</td>\n",
       "    </tr>\n",
       "    <tr>\n",
       "      <th>8</th>\n",
       "      <td>17:00</td>\n",
       "      <td>166.940086</td>\n",
       "      <td>NaN</td>\n",
       "    </tr>\n",
       "    <tr>\n",
       "      <th>9</th>\n",
       "      <td>18:00</td>\n",
       "      <td>168.755051</td>\n",
       "      <td>NaN</td>\n",
       "    </tr>\n",
       "  </tbody>\n",
       "</table>\n",
       "</div>"
      ],
      "text/plain": [
       "  timestamp  hourlyUtility_1  hourlyUtility_2\n",
       "0     09:00       118.751081       321.478634\n",
       "1     10:00       187.399507       321.107721\n",
       "2     11:00       184.670199       339.652104\n",
       "3     12:00       172.350511              NaN\n",
       "4     13:00       200.136649              NaN\n",
       "5     14:00       161.540897              NaN\n",
       "6     15:00       228.269765              NaN\n",
       "7     16:00       118.490021              NaN\n",
       "8     17:00       166.940086              NaN\n",
       "9     18:00       168.755051              NaN"
      ]
     },
     "execution_count": 63,
     "metadata": {},
     "output_type": "execute_result"
    }
   ],
   "source": [
    "merged_df = pd.merge(data_1, data_2, on=\"timestamp\", how=\"outer\", suffixes=(\"_1\", \"_2\")).sort_values(\"timestamp\").reset_index(drop=True)\n",
    "merged_df.head(10)"
   ]
  },
  {
   "cell_type": "markdown",
   "metadata": {},
   "source": [
    "### Plotting"
   ]
  },
  {
   "cell_type": "code",
   "execution_count": null,
   "metadata": {},
   "outputs": [
    {
     "data": {
      "image/png": "[encoded data removed]",
      "text/plain": [
       "<Figure size 600x400 with 1 Axes>"
      ]
     },
     "metadata": {},
     "output_type": "display_data"
    }
   ],
   "source": [
    "df_plot = merged_df.loc[0:9]\n",
    "\n",
    "# Create the plot\n",
    "plt.figure(figsize=(6, 4))  # Adjust size as needed for your paper\n",
    "plt.plot(df_plot['timestamp'], df_plot['hourlyUtility_1'], color='blue', linestyle='-', linewidth=1, marker='o', label='BM-DDPG')\n",
    "plt.plot(df_plot['timestamp'], df_plot['hourlyUtility_2'], color='orange', linestyle='-', linewidth=1, marker='o', label='algo-2')\n",
    "\n",
    "# Labels and title\n",
    "plt.title(\"Social Welfare Comparison\")\n",
    "plt.xlabel(\"Timestamp\")\n",
    "plt.ylabel(\"Social Welfare Value\")\n",
    "\n",
    "# Optional: Rotate x-axis labels for better readability\n",
    "plt.xticks(rotation=45)\n",
    "plt.ylim(0, 500)\n",
    "\n",
    "# Optional: Tight layout to prevent label cutoff\n",
    "# Labels and legend\n",
    "plt.xlabel(\"Timestamp\")\n",
    "plt.ylabel(\"Social Welfare Value\")\n",
    "plt.title(\"Social Welfare Comparison\")\n",
    "plt.xticks(rotation=45)\n",
    "plt.legend()\n",
    "plt.tight_layout()\n",
    "\n",
    "plt.savefig(\"hourly_utility_plot.png\", dpi=300, bbox_inches='tight')  # For slides or previews\n",
    "\n",
    "# Show the plot\n",
    "plt.show()"
   ]
  },
  {
   "cell_type": "code",
   "execution_count": null,
   "metadata": {},
   "outputs": [],
   "source": []
  }
 ],
 "metadata": {
  "kernelspec": {
   "display_name": "didi_env",
   "language": "python",
   "name": "python3"
  },
  "language_info": {
   "codemirror_mode": {
    "name": "ipython",
    "version": 3
   },
   "file_extension": ".py",
   "mimetype": "text/x-python",
   "name": "python",
   "nbconvert_exporter": "python",
   "pygments_lexer": "ipython3",
   "version": "3.10.13"
  }
 },
 "nbformat": 4,
 "nbformat_minor": 2
}
